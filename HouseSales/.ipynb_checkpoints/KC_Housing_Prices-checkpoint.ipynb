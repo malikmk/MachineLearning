{
 "cells": [
  {
   "cell_type": "code",
   "execution_count": null,
   "metadata": {},
   "outputs": [],
   "source": [
    "print (\"Welcome to Data Science Zaks!!\")"
   ]
  },
  {
   "cell_type": "code",
   "execution_count": null,
   "metadata": {},
   "outputs": [],
   "source": [
    "print (\"Lets start with the simple house sales dataset. \\n Lets try and apply what has been learned to this (hopefully) simpler dataset!!\")"
   ]
  },
  {
   "cell_type": "code",
   "execution_count": null,
   "metadata": {
    "collapsed": true
   },
   "outputs": [],
   "source": [
    "# Imported Packages\n",
    "import csv\n",
    "import numpy\n",
    "import pandas as pd\n",
    "import matplotlib as plotlib\n",
    "import matplotlib.pyplot as plt\n",
    "import seaborn as sns"
   ]
  },
  {
   "cell_type": "code",
   "execution_count": null,
   "metadata": {
    "scrolled": true
   },
   "outputs": [],
   "source": [
    "#Load the data with Python Standard Library!!\n",
    "#filename = 'kc_house_data.csv'\n",
    "#raw_data = open(filename, 'rt')\n",
    "#reader = csv.reader(raw_data, delimiter=',', quoting=csv.QUOTE_NONE)\n",
    "#x = list(reader)\n",
    "#my_data = numpy.array(x)#.astype('String')\n",
    "#print(my_data.shape)\n"
   ]
  },
  {
   "cell_type": "code",
   "execution_count": null,
   "metadata": {
    "collapsed": true
   },
   "outputs": [],
   "source": [
    "#Load the Data with Numpy\n",
    "#filename = 'kc_house_data.csv'\n",
    "#raw_data = open(filename,'rt')\n",
    "# Cant figure out yet an elegant way to read a stringed data as float. \n",
    "#data = numpy.loadtxt(raw_data, delimiter=',',skiprows=1)\n",
    "#print(data.shape)"
   ]
  },
  {
   "cell_type": "code",
   "execution_count": null,
   "metadata": {},
   "outputs": [],
   "source": [
    "#Load the Data with Pandas\n",
    "filename = 'kc_house_data.csv'\n",
    "#names = ['id','date','price','bedrooms','bathrooms','sqft_living','sqft_lot','floors','waterfront','view','condition','grade','sqft_above','sqft_basement','yr_built','yr_renovated','zipcode','lat','long','sqft_living15','sqft_lot15']\n",
    "my_data = pd.read_csv(filename, parse_dates=True)\n",
    "#x_train = list([list(my_data) for x in my_data])\n",
    "\n",
    "my_data.shape\n",
    "my_data.dtypes"
   ]
  },
  {
   "cell_type": "code",
   "execution_count": null,
   "metadata": {},
   "outputs": [],
   "source": [
    "#visualize the loaded data (head)!!\n",
    "my_data.head()\n"
   ]
  },
  {
   "cell_type": "code",
   "execution_count": null,
   "metadata": {},
   "outputs": [],
   "source": [
    "#visualize the loaded data (tail)!!\n",
    "my_data.tail()"
   ]
  },
  {
   "cell_type": "code",
   "execution_count": null,
   "metadata": {},
   "outputs": [],
   "source": [
    "#How to show a plot?? \n",
    "my_data.dtypes\n",
    "\n"
   ]
  },
  {
   "cell_type": "code",
   "execution_count": null,
   "metadata": {
    "scrolled": false
   },
   "outputs": [],
   "source": [
    "# Show # of bedrooms against price\n",
    "\n",
    "sns.lmplot(x='bedrooms', y='price', data=my_data[(my_data['bedrooms']) < 12], fit_reg=False)\n",
    "\n",
    "plt.show()\n",
    "\n",
    "\n"
   ]
  },
  {
   "cell_type": "code",
   "execution_count": null,
   "metadata": {},
   "outputs": [],
   "source": [
    "# Can we try seeing all parameters against each other in a pair plot?\n",
    "\n",
    "#g = sns.pairplot(my_data[['price','bedrooms','bathrooms','sqft_living','sqft_lot','floors','waterfront','view','grade','sqft_above','sqft_basement','yr_built','yr_renovated','zipcode','lat','long','sqft_living15','sqft_lot15']], hue='price', palette='afmhot',size=1.4)\n",
    "#g = sns.pairplot(my_data[['price','bedrooms','bathrooms','sqft_living','floors','waterfront','view','grade','yr_built','zipcode']], hue='zipcode', palette='afmhot',size=1.4)\n",
    "\n",
    "#g.set(xticklabels=[])\n",
    "\n",
    "#plt.show()"
   ]
  },
  {
   "cell_type": "code",
   "execution_count": null,
   "metadata": {
    "collapsed": true
   },
   "outputs": [],
   "source": [
    "#g = sns.pairplot(house[['sqft_lot','sqft_above','price','sqft_living','bedrooms']], hue='bedrooms', palette='afmhot',size=1.4)\n",
    "#g.set(xticklabels=[])"
   ]
  },
  {
   "cell_type": "code",
   "execution_count": null,
   "metadata": {
    "collapsed": true
   },
   "outputs": [],
   "source": []
  }
 ],
 "metadata": {
  "kernelspec": {
   "display_name": "Python 3",
   "language": "python",
   "name": "python3"
  },
  "language_info": {
   "codemirror_mode": {
    "name": "ipython",
    "version": 3
   },
   "file_extension": ".py",
   "mimetype": "text/x-python",
   "name": "python",
   "nbconvert_exporter": "python",
   "pygments_lexer": "ipython3",
   "version": "3.6.1"
  }
 },
 "nbformat": 4,
 "nbformat_minor": 2
}
