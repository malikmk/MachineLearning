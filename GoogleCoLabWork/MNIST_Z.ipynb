{
  "nbformat": 4,
  "nbformat_minor": 0,
  "metadata": {
    "colab": {
      "name": "MNIST-Z.ipynb",
      "version": "0.3.2",
      "provenance": [],
      "collapsed_sections": [],
      "include_colab_link": true
    },
    "kernelspec": {
      "name": "python3",
      "display_name": "Python 3"
    },
    "accelerator": "TPU"
  },
  "cells": [
    {
      "cell_type": "markdown",
      "metadata": {
        "id": "view-in-github",
        "colab_type": "text"
      },
      "source": [
        "<a href=\"https://colab.research.google.com/github/malikmk/MachineLearning/blob/master/GoogleCoLabWork/MNIST_Z.ipynb\" target=\"_parent\"><img src=\"https://colab.research.google.com/assets/colab-badge.svg\" alt=\"Open In Colab\"/></a>"
      ]
    },
    {
      "cell_type": "markdown",
      "metadata": {
        "id": "vTdyambVxvMd",
        "colab_type": "text"
      },
      "source": [
        "**A first tryout of MNIST on Google Colab**\n",
        "\n",
        "\n"
      ]
    },
    {
      "cell_type": "markdown",
      "metadata": {
        "id": "thnj1XXFzstw",
        "colab_type": "text"
      },
      "source": [
        "*STEP 1: Header files for the Keras implementation of MNIST recognition. *\n",
        "\n",
        "\n"
      ]
    },
    {
      "cell_type": "code",
      "metadata": {
        "id": "lCPvfjdyWJG-",
        "colab_type": "code",
        "colab": {}
      },
      "source": [
        "from __future__ import print_function\n",
        "import keras\n",
        "from keras.datasets import mnist\n",
        "from keras.layers import Conv2D, MaxPooling2D\n",
        "from keras.layers import Dense, Flatten\n",
        "from keras.models import Sequential\n",
        "import matplotlib.pylab as plt"
      ],
      "execution_count": 0,
      "outputs": []
    },
    {
      "cell_type": "code",
      "metadata": {
        "id": "o3RiM_M8W77G",
        "colab_type": "code",
        "colab": {}
      },
      "source": [
        "batch_size = 128\n",
        "num_classes = 10\n",
        "epochs = 10\n"
      ],
      "execution_count": 0,
      "outputs": []
    },
    {
      "cell_type": "code",
      "metadata": {
        "id": "q_aZaOChXCCl",
        "colab_type": "code",
        "colab": {}
      },
      "source": [
        "#Image dimensions\n",
        "img_x,img_y = 28,28\n"
      ],
      "execution_count": 0,
      "outputs": []
    },
    {
      "cell_type": "code",
      "metadata": {
        "id": "B0lB2dUdXH2c",
        "colab_type": "code",
        "colab": {}
      },
      "source": [
        "#Loading MNIST data set. It is already splitted into train and test. \n",
        "(x_train, y_train), (x_test, y_test) = mnist.load_data()"
      ],
      "execution_count": 0,
      "outputs": []
    },
    {
      "cell_type": "code",
      "metadata": {
        "id": "6oIY4jYeXYcC",
        "colab_type": "code",
        "colab": {}
      },
      "source": [
        "# Construction of 4D Tensor (sample#, x_img_x, img_y, numOfChannels)\n",
        "# Only one channel in greyscale images, in MNIST dataset. \n",
        "\n",
        "x_train = x_train.reshape(x_train.shape[0], img_x, img_y, 1)\n",
        "x_test  = x_test.reshape(x_test.shape[0], img_x, img_y, 1)\n",
        "input_shape = (img_x, img_y, 1)"
      ],
      "execution_count": 0,
      "outputs": []
    },
    {
      "cell_type": "code",
      "metadata": {
        "id": "4coWRbF-gvPm",
        "colab_type": "code",
        "colab": {}
      },
      "source": [
        "# convert to right type of data\n",
        "\n",
        "x_train = x_train.astype('float32')\n",
        "x_test = x_test.astype('float32')\n",
        "x_train /= 255\n",
        "x_test /= 255\n"
      ],
      "execution_count": 0,
      "outputs": []
    },
    {
      "cell_type": "code",
      "metadata": {
        "id": "4j-AdzxsiF66",
        "colab_type": "code",
        "colab": {}
      },
      "source": [
        "print ('x_train shape is:', x_train.shape)\n"
      ],
      "execution_count": 0,
      "outputs": []
    },
    {
      "cell_type": "code",
      "metadata": {
        "id": "5LI5TYupiLaH",
        "colab_type": "code",
        "colab": {}
      },
      "source": [
        "print (x_train.shape[0], 'train samples')"
      ],
      "execution_count": 0,
      "outputs": []
    },
    {
      "cell_type": "code",
      "metadata": {
        "id": "WqIyMW5_iUqq",
        "colab_type": "code",
        "colab": {}
      },
      "source": [
        "print(x_test.shape[0], 'test samples')"
      ],
      "execution_count": 0,
      "outputs": []
    },
    {
      "cell_type": "code",
      "metadata": {
        "id": "2d4syKdSiZHL",
        "colab_type": "code",
        "colab": {}
      },
      "source": [
        "# convert class vectors to binary class matrices - this is for use in the\n",
        "# categorical_crossentropy loss below\n",
        "\n",
        "y_train = keras.utils.to_categorical(y_train, num_classes)\n",
        "y_test = keras.utils.to_categorical(y_test, num_classes)"
      ],
      "execution_count": 0,
      "outputs": []
    },
    {
      "cell_type": "code",
      "metadata": {
        "id": "kee_JUS7jIWB",
        "colab_type": "code",
        "colab": {}
      },
      "source": [
        "model = Sequential()"
      ],
      "execution_count": 0,
      "outputs": []
    },
    {
      "cell_type": "code",
      "metadata": {
        "id": "0yumhaSVjLDv",
        "colab_type": "code",
        "colab": {}
      },
      "source": [
        "model.add(Conv2D(32, kernel_size=(5,5), strides=(1,1),\n",
        "                activation='relu',\n",
        "                input_shape=input_shape))"
      ],
      "execution_count": 0,
      "outputs": []
    },
    {
      "cell_type": "code",
      "metadata": {
        "id": "xr3OR373jh0Y",
        "colab_type": "code",
        "colab": {}
      },
      "source": [
        "model.add(MaxPooling2D(pool_size=(2, 2), strides=(2, 2)))\n",
        "model.add(Conv2D(64, (5, 5), activation='relu'))\n",
        "model.add(MaxPooling2D(pool_size=(2, 2)))\n",
        "model.add(Flatten())\n",
        "model.add(Dense(1000, activation='relu'))\n",
        "model.add(Dense(num_classes, activation='softmax'))\n"
      ],
      "execution_count": 0,
      "outputs": []
    },
    {
      "cell_type": "code",
      "metadata": {
        "id": "ZZXiGD2bjm45",
        "colab_type": "code",
        "colab": {}
      },
      "source": [
        "model.compile(loss=keras.losses.categorical_crossentropy,\n",
        "              optimizer=keras.optimizers.Adam(),\n",
        "              metrics=['accuracy'])"
      ],
      "execution_count": 0,
      "outputs": []
    },
    {
      "cell_type": "code",
      "metadata": {
        "id": "I-cPNGmKj1-E",
        "colab_type": "code",
        "colab": {}
      },
      "source": [
        "class AccuracyHistory(keras.callbacks.Callback):\n",
        "    def on_train_begin(self, logs={}):\n",
        "        self.acc = []\n",
        "\n",
        "    def on_epoch_end(self, batch, logs={}):\n",
        "        self.acc.append(logs.get('acc'))"
      ],
      "execution_count": 0,
      "outputs": []
    },
    {
      "cell_type": "code",
      "metadata": {
        "id": "D6-_UGgOj5LM",
        "colab_type": "code",
        "colab": {}
      },
      "source": [
        "history = AccuracyHistory()"
      ],
      "execution_count": 0,
      "outputs": []
    },
    {
      "cell_type": "code",
      "metadata": {
        "id": "A6i9JGY_j6tT",
        "colab_type": "code",
        "colab": {}
      },
      "source": [
        "model.fit(x_train, y_train,\n",
        "          batch_size=batch_size,\n",
        "          epochs=epochs,\n",
        "          verbose=1,\n",
        "          validation_data=(x_test, y_test),\n",
        "          callbacks=[history])"
      ],
      "execution_count": 0,
      "outputs": []
    },
    {
      "cell_type": "code",
      "metadata": {
        "id": "BQbV9tGUj9M5",
        "colab_type": "code",
        "colab": {}
      },
      "source": [
        "score = model.evaluate(x_test, y_test, verbose=0)"
      ],
      "execution_count": 0,
      "outputs": []
    },
    {
      "cell_type": "code",
      "metadata": {
        "id": "YHEjISC-mnh6",
        "colab_type": "code",
        "colab": {}
      },
      "source": [
        "print('Test loss:', score[0])\n",
        "print('Test accuracy:', score[1])"
      ],
      "execution_count": 0,
      "outputs": []
    },
    {
      "cell_type": "code",
      "metadata": {
        "id": "qC6LY5z9msdp",
        "colab_type": "code",
        "colab": {}
      },
      "source": [
        "plt.plot(range(1, 11), history.acc)\n",
        "plt.xlabel('Epochs')\n",
        "plt.ylabel('Accuracy')\n",
        "plt.show()"
      ],
      "execution_count": 0,
      "outputs": []
    },
    {
      "cell_type": "code",
      "metadata": {
        "id": "3_nMhguAmvsy",
        "colab_type": "code",
        "colab": {}
      },
      "source": [
        ""
      ],
      "execution_count": 0,
      "outputs": []
    },
    {
      "cell_type": "markdown",
      "metadata": {
        "id": "xBWW9t_ynkX7",
        "colab_type": "text"
      },
      "source": [
        "**Training Results while using no accelerator.**Train on 60000 samples, validate on 10000 samples\n",
        "Epoch 1/10\n",
        "60000/60000 [==============================] - 70s 1ms/step - loss: 0.1553 - acc: 0.9528 - val_loss: 0.0483 - val_acc: 0.9846\n",
        "Epoch 2/10\n",
        "60000/60000 [==============================] - 68s 1ms/step - loss: 0.0401 - acc: 0.9874 - val_loss: 0.0298 - val_acc: 0.9905\n",
        "Epoch 3/10\n",
        "60000/60000 [==============================] - 68s 1ms/step - loss: 0.0259 - acc: 0.9919 - val_loss: 0.0385 - val_acc: 0.9867\n",
        "Epoch 4/10\n",
        "60000/60000 [==============================] - 68s 1ms/step - loss: 0.0204 - acc: 0.9934 - val_loss: 0.0246 - val_acc: 0.9915\n",
        "Epoch 5/10\n",
        "60000/60000 [==============================] - 68s 1ms/step - loss: 0.0154 - acc: 0.9952 - val_loss: 0.0244 - val_acc: 0.9929\n",
        "Epoch 6/10\n",
        "60000/60000 [==============================] - 68s 1ms/step - loss: 0.0116 - acc: 0.9963 - val_loss: 0.0271 - val_acc: 0.9917\n",
        "Epoch 7/10\n",
        "60000/60000 [==============================] - 68s 1ms/step - loss: 0.0104 - acc: 0.9967 - val_loss: 0.0243 - val_acc: 0.9915\n",
        "Epoch 8/10\n",
        "60000/60000 [==============================] - 68s 1ms/step - loss: 0.0086 - acc: 0.9971 - val_loss: 0.0290 - val_acc: 0.9920\n",
        "Epoch 9/10\n",
        "60000/60000 [==============================] - 68s 1ms/step - loss: 0.0092 - acc: 0.9970 - val_loss: 0.0289 - val_acc: 0.9924\n",
        "Epoch 10/10\n",
        "60000/60000 [==============================] - 69s 1ms/step - loss: 0.0063 - acc: 0.9980 - val_loss: 0.0312 - val_acc: 0.9913"
      ]
    },
    {
      "cell_type": "markdown",
      "metadata": {
        "id": "lBUHk9LQnyIO",
        "colab_type": "text"
      },
      "source": [
        "**Training Results while using GPU Runtime setting in Colab.**\n",
        "Train on 60000 samples, validate on 10000 samples\n",
        "Epoch 1/10\n",
        "60000/60000 [==============================] - 12s 196us/step - loss: 0.1459 - acc: 0.9560 - val_loss: 0.0431 - val_acc: 0.9862\n",
        "Epoch 2/10\n",
        "60000/60000 [==============================] - 5s 84us/step - loss: 0.0401 - acc: 0.9877 - val_loss: 0.0289 - val_acc: 0.9910\n",
        "Epoch 3/10\n",
        "60000/60000 [==============================] - 5s 87us/step - loss: 0.0267 - acc: 0.9917 - val_loss: 0.0256 - val_acc: 0.9926\n",
        "Epoch 4/10\n",
        "60000/60000 [==============================] - 5s 88us/step - loss: 0.0199 - acc: 0.9938 - val_loss: 0.0313 - val_acc: 0.9905\n",
        "Epoch 5/10\n",
        "60000/60000 [==============================] - 5s 85us/step - loss: 0.0141 - acc: 0.9956 - val_loss: 0.0275 - val_acc: 0.9915\n",
        "Epoch 6/10\n",
        "60000/60000 [==============================] - 5s 85us/step - loss: 0.0131 - acc: 0.9959 - val_loss: 0.0310 - val_acc: 0.9906\n",
        "Epoch 7/10\n",
        "60000/60000 [==============================] - 5s 85us/step - loss: 0.0115 - acc: 0.9964 - val_loss: 0.0242 - val_acc: 0.9926\n",
        "Epoch 8/10\n",
        "60000/60000 [==============================] - 5s 85us/step - loss: 0.0086 - acc: 0.9970 - val_loss: 0.0249 - val_acc: 0.9926\n",
        "Epoch 9/10\n",
        "60000/60000 [==============================] - 5s 86us/step - loss: 0.0077 - acc: 0.9975 - val_loss: 0.0268 - val_acc: 0.9921\n",
        "Epoch 10/10\n",
        "60000/60000 [==============================] - 5s 85us/step - loss: 0.0068 - acc: 0.9976 - val_loss: 0.0330 - val_acc: 0.9916"
      ]
    },
    {
      "cell_type": "markdown",
      "metadata": {
        "id": "WF647MkJn2Z3",
        "colab_type": "text"
      },
      "source": [
        "**Training Results while using TPU Runtime setting in Colab.**Train on 60000 samples, validate on 10000 samples\n",
        "Epoch 1/10\n",
        "60000/60000 [==============================] - 69s 1ms/step - loss: 0.1487 - acc: 0.9536 - val_loss: 0.0486 - val_acc: 0.9839\n",
        "Epoch 2/10\n",
        "60000/60000 [==============================] - 67s 1ms/step - loss: 0.0411 - acc: 0.9872 - val_loss: 0.0317 - val_acc: 0.9898\n",
        "Epoch 3/10\n",
        "60000/60000 [==============================] - 67s 1ms/step - loss: 0.0275 - acc: 0.9913 - val_loss: 0.0336 - val_acc: 0.9886\n",
        "Epoch 4/10\n",
        "60000/60000 [==============================] - 67s 1ms/step - loss: 0.0209 - acc: 0.9935 - val_loss: 0.0297 - val_acc: 0.9908\n",
        "Epoch 5/10\n",
        "60000/60000 [==============================] - 67s 1ms/step - loss: 0.0167 - acc: 0.9948 - val_loss: 0.0272 - val_acc: 0.9920\n",
        "Epoch 6/10\n",
        "60000/60000 [==============================] - 67s 1ms/step - loss: 0.0118 - acc: 0.9965 - val_loss: 0.0299 - val_acc: 0.9918\n",
        "Epoch 7/10\n",
        "60000/60000 [==============================] - 67s 1ms/step - loss: 0.0109 - acc: 0.9962 - val_loss: 0.0360 - val_acc: 0.9898\n",
        "Epoch 8/10\n",
        "60000/60000 [==============================] - 67s 1ms/step - loss: 0.0094 - acc: 0.9970 - val_loss: 0.0285 - val_acc: 0.9914\n",
        "Epoch 9/10\n",
        "60000/60000 [==============================] - 67s 1ms/step - loss: 0.0078 - acc: 0.9974 - val_loss: 0.0315 - val_acc: 0.9908\n",
        "Epoch 10/10\n",
        "60000/60000 [==============================] - 67s 1ms/step - loss: 0.0081 - acc: 0.9974 - val_loss: 0.0279 - val_acc: 0.9922\n",
        "\n"
      ]
    }
  ]
}